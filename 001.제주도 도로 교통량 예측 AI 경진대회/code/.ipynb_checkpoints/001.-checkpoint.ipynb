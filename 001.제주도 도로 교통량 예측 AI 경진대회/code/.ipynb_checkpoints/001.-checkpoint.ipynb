{
 "cells": [
  {
   "cell_type": "markdown",
   "id": "99915726",
   "metadata": {},
   "source": [
    "[사이트](https://dacon.io/competitions/official/235985/data)"
   ]
  },
  {
   "cell_type": "markdown",
   "id": "ba019013",
   "metadata": {},
   "source": [
    "# Dataset Info\n",
    "    - train.csv [파일]\n",
    "        - 2022년 8월 이전 데이터만 존재 (단, 날짜가 모두 연속적이지 않음)\n",
    "        - 4,701,217개의 데이터\n",
    "        - id : 샘플 별 고유 id\n",
    "        - 날짜, 시간, 교통 및 도로구간 등 정보\n",
    "        - target : 도로의 차량 평균 속도(km)\n",
    "    \n",
    "    - test.csv [파일]\n",
    "        - 2022년 8월 데이터만 존재 (단, 날짜가 모두 연속적이지 않음) 291,241개의 데이터\n",
    "        - id : 샘플 별 고유 id\n",
    "        - 날짜, 시간, 교통 및 도로구간 등 정보\n",
    "        \n",
    "    - sample_submission.csv [제출양식]\n",
    "        - id : 샘플 별 고유 id\n",
    "        - target : 도로의 차량 평균 속도(km)"
   ]
  }
 ],
 "metadata": {
  "hide_input": false,
  "kernelspec": {
   "display_name": "Python 3 (ipykernel)",
   "language": "python",
   "name": "python3"
  },
  "language_info": {
   "codemirror_mode": {
    "name": "ipython",
    "version": 3
   },
   "file_extension": ".py",
   "mimetype": "text/x-python",
   "name": "python",
   "nbconvert_exporter": "python",
   "pygments_lexer": "ipython3",
   "version": "3.9.13"
  },
  "toc": {
   "base_numbering": 1,
   "nav_menu": {},
   "number_sections": true,
   "sideBar": true,
   "skip_h1_title": false,
   "title_cell": "Table of Contents",
   "title_sidebar": "Contents",
   "toc_cell": false,
   "toc_position": {},
   "toc_section_display": true,
   "toc_window_display": false
  },
  "varInspector": {
   "cols": {
    "lenName": 16,
    "lenType": 16,
    "lenVar": 40
   },
   "kernels_config": {
    "python": {
     "delete_cmd_postfix": "",
     "delete_cmd_prefix": "del ",
     "library": "var_list.py",
     "varRefreshCmd": "print(var_dic_list())"
    },
    "r": {
     "delete_cmd_postfix": ") ",
     "delete_cmd_prefix": "rm(",
     "library": "var_list.r",
     "varRefreshCmd": "cat(var_dic_list()) "
    }
   },
   "types_to_exclude": [
    "module",
    "function",
    "builtin_function_or_method",
    "instance",
    "_Feature"
   ],
   "window_display": false
  }
 },
 "nbformat": 4,
 "nbformat_minor": 5
}
