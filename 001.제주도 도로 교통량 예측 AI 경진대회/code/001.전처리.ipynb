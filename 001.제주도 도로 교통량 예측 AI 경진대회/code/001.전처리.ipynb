{
 "cells": [
  {
   "cell_type": "markdown",
   "id": "99915726",
   "metadata": {},
   "source": [
    "[사이트](https://dacon.io/competitions/official/235985/data)"
   ]
  },
  {
   "cell_type": "markdown",
   "id": "ba019013",
   "metadata": {},
   "source": [
    "# Dataset Info\n",
    "    - train.csv [파일]\n",
    "        - 2022년 8월 이전 데이터만 존재 (단, 날짜가 모두 연속적이지 않음)\n",
    "        - 4,701,217개의 데이터\n",
    "        - id : 샘플 별 고유 id\n",
    "        - 날짜, 시간, 교통 및 도로구간 등 정보\n",
    "        - target : 도로의 차량 평균 속도(km)\n",
    "    \n",
    "    - test.csv [파일]\n",
    "        - 2022년 8월 데이터만 존재 (단, 날짜가 모두 연속적이지 않음) 291,241개의 데이터\n",
    "        - id : 샘플 별 고유 id\n",
    "        - 날짜, 시간, 교통 및 도로구간 등 정보\n",
    "        \n",
    "    - sample_submission.csv [제출양식]\n",
    "        - id : 샘플 별 고유 id\n",
    "        - target : 도로의 차량 평균 속도(km)"
   ]
  },
  {
   "cell_type": "markdown",
   "id": "a6dc5867",
   "metadata": {},
   "source": [
    "# 데이터 불러오기"
   ]
  },
  {
   "cell_type": "code",
   "execution_count": 1,
   "id": "32de4f20",
   "metadata": {
    "ExecuteTime": {
     "end_time": "2022-10-18T01:22:21.141387Z",
     "start_time": "2022-10-18T01:22:20.577270Z"
    }
   },
   "outputs": [],
   "source": [
    "import pandas as pd"
   ]
  },
  {
   "cell_type": "code",
   "execution_count": 2,
   "id": "fdf192f2",
   "metadata": {
    "ExecuteTime": {
     "end_time": "2022-10-18T01:22:31.450953Z",
     "start_time": "2022-10-18T01:22:21.145976Z"
    }
   },
   "outputs": [],
   "source": [
    "data_info = pd.read_csv(\"../data/initial_data/data_info.csv\")\n",
    "train = pd.read_csv(\"../data/initial_data/train.csv\")\n",
    "test = pd.read_csv(\"../data/initial_data/test.csv\")"
   ]
  },
  {
   "cell_type": "code",
   "execution_count": 3,
   "id": "b80f61f4",
   "metadata": {
    "ExecuteTime": {
     "end_time": "2022-10-18T01:22:31.481486Z",
     "start_time": "2022-10-18T01:22:31.453382Z"
    }
   },
   "outputs": [
    {
     "data": {
      "text/html": [
       "<div>\n",
       "<style scoped>\n",
       "    .dataframe tbody tr th:only-of-type {\n",
       "        vertical-align: middle;\n",
       "    }\n",
       "\n",
       "    .dataframe tbody tr th {\n",
       "        vertical-align: top;\n",
       "    }\n",
       "\n",
       "    .dataframe thead th {\n",
       "        text-align: right;\n",
       "    }\n",
       "</style>\n",
       "<table border=\"1\" class=\"dataframe\">\n",
       "  <thead>\n",
       "    <tr style=\"text-align: right;\">\n",
       "      <th></th>\n",
       "      <th>변수명</th>\n",
       "      <th>변수 설명</th>\n",
       "    </tr>\n",
       "  </thead>\n",
       "  <tbody>\n",
       "    <tr>\n",
       "      <th>0</th>\n",
       "      <td>id</td>\n",
       "      <td>아이디</td>\n",
       "    </tr>\n",
       "    <tr>\n",
       "      <th>1</th>\n",
       "      <td>base_date</td>\n",
       "      <td>날짜</td>\n",
       "    </tr>\n",
       "    <tr>\n",
       "      <th>2</th>\n",
       "      <td>day_of_week</td>\n",
       "      <td>요일</td>\n",
       "    </tr>\n",
       "    <tr>\n",
       "      <th>3</th>\n",
       "      <td>base_hour</td>\n",
       "      <td>시간대</td>\n",
       "    </tr>\n",
       "    <tr>\n",
       "      <th>4</th>\n",
       "      <td>road_in_use</td>\n",
       "      <td>도로사용여부</td>\n",
       "    </tr>\n",
       "    <tr>\n",
       "      <th>5</th>\n",
       "      <td>lane_count</td>\n",
       "      <td>차로수</td>\n",
       "    </tr>\n",
       "    <tr>\n",
       "      <th>6</th>\n",
       "      <td>road_rating</td>\n",
       "      <td>도로등급</td>\n",
       "    </tr>\n",
       "    <tr>\n",
       "      <th>7</th>\n",
       "      <td>multi_linked</td>\n",
       "      <td>중용구간 여부</td>\n",
       "    </tr>\n",
       "    <tr>\n",
       "      <th>8</th>\n",
       "      <td>connect_code</td>\n",
       "      <td>연결로 코드</td>\n",
       "    </tr>\n",
       "    <tr>\n",
       "      <th>9</th>\n",
       "      <td>maximum_speed_limit</td>\n",
       "      <td>최고속도제한</td>\n",
       "    </tr>\n",
       "    <tr>\n",
       "      <th>10</th>\n",
       "      <td>weight_restricted</td>\n",
       "      <td>통과제한하중</td>\n",
       "    </tr>\n",
       "    <tr>\n",
       "      <th>11</th>\n",
       "      <td>height_restricted</td>\n",
       "      <td>통과제한높이</td>\n",
       "    </tr>\n",
       "    <tr>\n",
       "      <th>12</th>\n",
       "      <td>road_type</td>\n",
       "      <td>도로유형</td>\n",
       "    </tr>\n",
       "    <tr>\n",
       "      <th>13</th>\n",
       "      <td>start_latitude</td>\n",
       "      <td>시작지점의 위도</td>\n",
       "    </tr>\n",
       "    <tr>\n",
       "      <th>14</th>\n",
       "      <td>start_longitude</td>\n",
       "      <td>시작지점의 경도</td>\n",
       "    </tr>\n",
       "    <tr>\n",
       "      <th>15</th>\n",
       "      <td>start_turn_restricted</td>\n",
       "      <td>시작 지점의 회전제한 유무</td>\n",
       "    </tr>\n",
       "    <tr>\n",
       "      <th>16</th>\n",
       "      <td>end_latitude</td>\n",
       "      <td>도착지점의 위도</td>\n",
       "    </tr>\n",
       "    <tr>\n",
       "      <th>17</th>\n",
       "      <td>end_longitude</td>\n",
       "      <td>도착지점의 경도</td>\n",
       "    </tr>\n",
       "    <tr>\n",
       "      <th>18</th>\n",
       "      <td>end_turn_restricted</td>\n",
       "      <td>도작지점의 회전제한 유무</td>\n",
       "    </tr>\n",
       "    <tr>\n",
       "      <th>19</th>\n",
       "      <td>road_name</td>\n",
       "      <td>도로명</td>\n",
       "    </tr>\n",
       "    <tr>\n",
       "      <th>20</th>\n",
       "      <td>start_node_name</td>\n",
       "      <td>시작지점명</td>\n",
       "    </tr>\n",
       "    <tr>\n",
       "      <th>21</th>\n",
       "      <td>end_node_name</td>\n",
       "      <td>도착지점명</td>\n",
       "    </tr>\n",
       "    <tr>\n",
       "      <th>22</th>\n",
       "      <td>vehicle_restricted</td>\n",
       "      <td>통과제한차량</td>\n",
       "    </tr>\n",
       "    <tr>\n",
       "      <th>23</th>\n",
       "      <td>target</td>\n",
       "      <td>평균속도(km)</td>\n",
       "    </tr>\n",
       "  </tbody>\n",
       "</table>\n",
       "</div>"
      ],
      "text/plain": [
       "                      변수명           변수 설명\n",
       "0                      id             아이디\n",
       "1               base_date              날짜\n",
       "2             day_of_week              요일\n",
       "3               base_hour             시간대\n",
       "4             road_in_use          도로사용여부\n",
       "5              lane_count             차로수\n",
       "6             road_rating            도로등급\n",
       "7            multi_linked         중용구간 여부\n",
       "8            connect_code          연결로 코드\n",
       "9     maximum_speed_limit          최고속도제한\n",
       "10      weight_restricted          통과제한하중\n",
       "11      height_restricted          통과제한높이\n",
       "12              road_type            도로유형\n",
       "13         start_latitude        시작지점의 위도\n",
       "14        start_longitude        시작지점의 경도\n",
       "15  start_turn_restricted  시작 지점의 회전제한 유무\n",
       "16           end_latitude        도착지점의 위도\n",
       "17          end_longitude        도착지점의 경도\n",
       "18    end_turn_restricted   도작지점의 회전제한 유무\n",
       "19              road_name             도로명\n",
       "20        start_node_name           시작지점명\n",
       "21          end_node_name           도착지점명\n",
       "22     vehicle_restricted          통과제한차량\n",
       "23                 target        평균속도(km)"
      ]
     },
     "execution_count": 3,
     "metadata": {},
     "output_type": "execute_result"
    }
   ],
   "source": [
    "data_info"
   ]
  },
  {
   "cell_type": "code",
   "execution_count": 4,
   "id": "1fb20c0a",
   "metadata": {
    "ExecuteTime": {
     "end_time": "2022-10-18T01:22:31.514126Z",
     "start_time": "2022-10-18T01:22:31.485501Z"
    }
   },
   "outputs": [
    {
     "data": {
      "text/html": [
       "<div>\n",
       "<style scoped>\n",
       "    .dataframe tbody tr th:only-of-type {\n",
       "        vertical-align: middle;\n",
       "    }\n",
       "\n",
       "    .dataframe tbody tr th {\n",
       "        vertical-align: top;\n",
       "    }\n",
       "\n",
       "    .dataframe thead th {\n",
       "        text-align: right;\n",
       "    }\n",
       "</style>\n",
       "<table border=\"1\" class=\"dataframe\">\n",
       "  <thead>\n",
       "    <tr style=\"text-align: right;\">\n",
       "      <th></th>\n",
       "      <th>id</th>\n",
       "      <th>base_date</th>\n",
       "      <th>day_of_week</th>\n",
       "      <th>base_hour</th>\n",
       "      <th>lane_count</th>\n",
       "      <th>road_rating</th>\n",
       "      <th>road_name</th>\n",
       "      <th>multi_linked</th>\n",
       "      <th>connect_code</th>\n",
       "      <th>maximum_speed_limit</th>\n",
       "      <th>...</th>\n",
       "      <th>road_type</th>\n",
       "      <th>start_node_name</th>\n",
       "      <th>start_latitude</th>\n",
       "      <th>start_longitude</th>\n",
       "      <th>start_turn_restricted</th>\n",
       "      <th>end_node_name</th>\n",
       "      <th>end_latitude</th>\n",
       "      <th>end_longitude</th>\n",
       "      <th>end_turn_restricted</th>\n",
       "      <th>target</th>\n",
       "    </tr>\n",
       "  </thead>\n",
       "  <tbody>\n",
       "    <tr>\n",
       "      <th>0</th>\n",
       "      <td>TRAIN_0000000</td>\n",
       "      <td>20220623</td>\n",
       "      <td>목</td>\n",
       "      <td>17</td>\n",
       "      <td>1</td>\n",
       "      <td>106</td>\n",
       "      <td>지방도1112호선</td>\n",
       "      <td>0</td>\n",
       "      <td>0</td>\n",
       "      <td>60.0</td>\n",
       "      <td>...</td>\n",
       "      <td>3</td>\n",
       "      <td>제3교래교</td>\n",
       "      <td>33.427747</td>\n",
       "      <td>126.662612</td>\n",
       "      <td>없음</td>\n",
       "      <td>제3교래교</td>\n",
       "      <td>33.427749</td>\n",
       "      <td>126.662335</td>\n",
       "      <td>없음</td>\n",
       "      <td>52.0</td>\n",
       "    </tr>\n",
       "    <tr>\n",
       "      <th>1</th>\n",
       "      <td>TRAIN_0000001</td>\n",
       "      <td>20220728</td>\n",
       "      <td>목</td>\n",
       "      <td>21</td>\n",
       "      <td>2</td>\n",
       "      <td>103</td>\n",
       "      <td>일반국도11호선</td>\n",
       "      <td>0</td>\n",
       "      <td>0</td>\n",
       "      <td>60.0</td>\n",
       "      <td>...</td>\n",
       "      <td>0</td>\n",
       "      <td>광양사거리</td>\n",
       "      <td>33.500730</td>\n",
       "      <td>126.529107</td>\n",
       "      <td>있음</td>\n",
       "      <td>KAL사거리</td>\n",
       "      <td>33.504811</td>\n",
       "      <td>126.526240</td>\n",
       "      <td>없음</td>\n",
       "      <td>30.0</td>\n",
       "    </tr>\n",
       "  </tbody>\n",
       "</table>\n",
       "<p>2 rows × 23 columns</p>\n",
       "</div>"
      ],
      "text/plain": [
       "              id  base_date day_of_week  base_hour  lane_count  road_rating  \\\n",
       "0  TRAIN_0000000   20220623           목         17           1          106   \n",
       "1  TRAIN_0000001   20220728           목         21           2          103   \n",
       "\n",
       "   road_name  multi_linked  connect_code  maximum_speed_limit  ...  road_type  \\\n",
       "0  지방도1112호선             0             0                 60.0  ...          3   \n",
       "1   일반국도11호선             0             0                 60.0  ...          0   \n",
       "\n",
       "   start_node_name  start_latitude  start_longitude start_turn_restricted  \\\n",
       "0            제3교래교       33.427747       126.662612                    없음   \n",
       "1            광양사거리       33.500730       126.529107                    있음   \n",
       "\n",
       "   end_node_name  end_latitude end_longitude end_turn_restricted  target  \n",
       "0          제3교래교     33.427749    126.662335                  없음    52.0  \n",
       "1         KAL사거리     33.504811    126.526240                  없음    30.0  \n",
       "\n",
       "[2 rows x 23 columns]"
      ]
     },
     "execution_count": 4,
     "metadata": {},
     "output_type": "execute_result"
    }
   ],
   "source": [
    "train.head(2)"
   ]
  },
  {
   "cell_type": "code",
   "execution_count": 5,
   "id": "04421212",
   "metadata": {
    "ExecuteTime": {
     "end_time": "2022-10-18T01:22:31.534558Z",
     "start_time": "2022-10-18T01:22:31.514126Z"
    }
   },
   "outputs": [
    {
     "data": {
      "text/html": [
       "<div>\n",
       "<style scoped>\n",
       "    .dataframe tbody tr th:only-of-type {\n",
       "        vertical-align: middle;\n",
       "    }\n",
       "\n",
       "    .dataframe tbody tr th {\n",
       "        vertical-align: top;\n",
       "    }\n",
       "\n",
       "    .dataframe thead th {\n",
       "        text-align: right;\n",
       "    }\n",
       "</style>\n",
       "<table border=\"1\" class=\"dataframe\">\n",
       "  <thead>\n",
       "    <tr style=\"text-align: right;\">\n",
       "      <th></th>\n",
       "      <th>id</th>\n",
       "      <th>base_date</th>\n",
       "      <th>day_of_week</th>\n",
       "      <th>base_hour</th>\n",
       "      <th>lane_count</th>\n",
       "      <th>road_rating</th>\n",
       "      <th>road_name</th>\n",
       "      <th>multi_linked</th>\n",
       "      <th>connect_code</th>\n",
       "      <th>maximum_speed_limit</th>\n",
       "      <th>...</th>\n",
       "      <th>height_restricted</th>\n",
       "      <th>road_type</th>\n",
       "      <th>start_node_name</th>\n",
       "      <th>start_latitude</th>\n",
       "      <th>start_longitude</th>\n",
       "      <th>start_turn_restricted</th>\n",
       "      <th>end_node_name</th>\n",
       "      <th>end_latitude</th>\n",
       "      <th>end_longitude</th>\n",
       "      <th>end_turn_restricted</th>\n",
       "    </tr>\n",
       "  </thead>\n",
       "  <tbody>\n",
       "    <tr>\n",
       "      <th>0</th>\n",
       "      <td>TEST_000000</td>\n",
       "      <td>20220825</td>\n",
       "      <td>목</td>\n",
       "      <td>17</td>\n",
       "      <td>3</td>\n",
       "      <td>107</td>\n",
       "      <td>연삼로</td>\n",
       "      <td>0</td>\n",
       "      <td>0</td>\n",
       "      <td>70.0</td>\n",
       "      <td>...</td>\n",
       "      <td>0.0</td>\n",
       "      <td>0</td>\n",
       "      <td>산지2교</td>\n",
       "      <td>33.499427</td>\n",
       "      <td>126.541298</td>\n",
       "      <td>없음</td>\n",
       "      <td>제주은행사거리</td>\n",
       "      <td>33.500772</td>\n",
       "      <td>126.543837</td>\n",
       "      <td>있음</td>\n",
       "    </tr>\n",
       "    <tr>\n",
       "      <th>1</th>\n",
       "      <td>TEST_000001</td>\n",
       "      <td>20220809</td>\n",
       "      <td>화</td>\n",
       "      <td>12</td>\n",
       "      <td>2</td>\n",
       "      <td>103</td>\n",
       "      <td>일반국도12호선</td>\n",
       "      <td>0</td>\n",
       "      <td>0</td>\n",
       "      <td>70.0</td>\n",
       "      <td>...</td>\n",
       "      <td>0.0</td>\n",
       "      <td>3</td>\n",
       "      <td>중문입구</td>\n",
       "      <td>33.258507</td>\n",
       "      <td>126.427003</td>\n",
       "      <td>없음</td>\n",
       "      <td>관광단지입구</td>\n",
       "      <td>33.258119</td>\n",
       "      <td>126.415840</td>\n",
       "      <td>없음</td>\n",
       "    </tr>\n",
       "  </tbody>\n",
       "</table>\n",
       "<p>2 rows × 22 columns</p>\n",
       "</div>"
      ],
      "text/plain": [
       "            id  base_date day_of_week  base_hour  lane_count  road_rating  \\\n",
       "0  TEST_000000   20220825           목         17           3          107   \n",
       "1  TEST_000001   20220809           화         12           2          103   \n",
       "\n",
       "  road_name  multi_linked  connect_code  maximum_speed_limit  ...  \\\n",
       "0       연삼로             0             0                 70.0  ...   \n",
       "1  일반국도12호선             0             0                 70.0  ...   \n",
       "\n",
       "   height_restricted  road_type  start_node_name  start_latitude  \\\n",
       "0                0.0          0             산지2교       33.499427   \n",
       "1                0.0          3             중문입구       33.258507   \n",
       "\n",
       "  start_longitude  start_turn_restricted  end_node_name end_latitude  \\\n",
       "0      126.541298                     없음        제주은행사거리    33.500772   \n",
       "1      126.427003                     없음         관광단지입구    33.258119   \n",
       "\n",
       "  end_longitude  end_turn_restricted  \n",
       "0    126.543837                   있음  \n",
       "1    126.415840                   없음  \n",
       "\n",
       "[2 rows x 22 columns]"
      ]
     },
     "execution_count": 5,
     "metadata": {},
     "output_type": "execute_result"
    }
   ],
   "source": [
    "test.head(2)"
   ]
  },
  {
   "cell_type": "markdown",
   "id": "61f1ca5e",
   "metadata": {},
   "source": [
    "# 데이터 준비"
   ]
  },
  {
   "cell_type": "markdown",
   "id": "b4402f00",
   "metadata": {},
   "source": [
    "## id"
   ]
  },
  {
   "cell_type": "code",
   "execution_count": 6,
   "id": "18c7d8f4",
   "metadata": {
    "ExecuteTime": {
     "end_time": "2022-10-18T01:22:31.550907Z",
     "start_time": "2022-10-18T01:22:31.534826Z"
    }
   },
   "outputs": [
    {
     "data": {
      "text/plain": [
       "0    TRAIN_0000000\n",
       "1    TRAIN_0000001\n",
       "2    TRAIN_0000002\n",
       "3    TRAIN_0000003\n",
       "4    TRAIN_0000004\n",
       "Name: id, dtype: object"
      ]
     },
     "execution_count": 6,
     "metadata": {},
     "output_type": "execute_result"
    }
   ],
   "source": [
    "train['id'][:5] # 필요없는 컬럼"
   ]
  },
  {
   "cell_type": "code",
   "execution_count": 7,
   "id": "b2a9503c",
   "metadata": {
    "ExecuteTime": {
     "end_time": "2022-10-18T01:22:31.888028Z",
     "start_time": "2022-10-18T01:22:31.550907Z"
    }
   },
   "outputs": [],
   "source": [
    "train = train.drop(columns = 'id')"
   ]
  },
  {
   "cell_type": "code",
   "execution_count": 8,
   "id": "dad71be1",
   "metadata": {
    "ExecuteTime": {
     "end_time": "2022-10-18T01:22:31.928509Z",
     "start_time": "2022-10-18T01:22:31.888028Z"
    }
   },
   "outputs": [],
   "source": [
    "test = test.drop(columns = 'id')"
   ]
  },
  {
   "cell_type": "markdown",
   "id": "d2db4186",
   "metadata": {},
   "source": [
    "## base_date"
   ]
  },
  {
   "cell_type": "code",
   "execution_count": 9,
   "id": "b67ccbae",
   "metadata": {
    "ExecuteTime": {
     "end_time": "2022-10-18T01:22:31.944485Z",
     "start_time": "2022-10-18T01:22:31.928509Z"
    }
   },
   "outputs": [
    {
     "data": {
      "text/plain": [
       "0    20220623\n",
       "1    20220728\n",
       "2    20211010\n",
       "Name: base_date, dtype: int64"
      ]
     },
     "execution_count": 9,
     "metadata": {},
     "output_type": "execute_result"
    }
   ],
   "source": [
    "train['base_date'][:3] # 데이터 타입을 날짜로 변경"
   ]
  },
  {
   "cell_type": "code",
   "execution_count": 10,
   "id": "ac62076b",
   "metadata": {
    "ExecuteTime": {
     "end_time": "2022-10-18T01:22:33.794615Z",
     "start_time": "2022-10-18T01:22:31.948484Z"
    }
   },
   "outputs": [],
   "source": [
    "train['base_date']=pd.to_datetime(train['base_date'].astype(str), format='%Y%m%d')"
   ]
  },
  {
   "cell_type": "code",
   "execution_count": 12,
   "id": "8cb1c9f8",
   "metadata": {
    "ExecuteTime": {
     "end_time": "2022-10-18T01:23:05.054651Z",
     "start_time": "2022-10-18T01:23:05.035461Z"
    }
   },
   "outputs": [
    {
     "data": {
      "text/plain": [
       "0   2022-06-23\n",
       "1   2022-07-28\n",
       "2   2021-10-10\n",
       "Name: base_date, dtype: datetime64[ns]"
      ]
     },
     "execution_count": 12,
     "metadata": {},
     "output_type": "execute_result"
    }
   ],
   "source": [
    "train['base_date'][:3]"
   ]
  },
  {
   "cell_type": "code",
   "execution_count": 13,
   "id": "da776c13",
   "metadata": {
    "ExecuteTime": {
     "end_time": "2022-10-18T01:23:21.881343Z",
     "start_time": "2022-10-18T01:23:21.856840Z"
    }
   },
   "outputs": [
    {
     "data": {
      "text/plain": [
       "0    20220825\n",
       "1    20220809\n",
       "2    20220805\n",
       "Name: base_date, dtype: int64"
      ]
     },
     "execution_count": 13,
     "metadata": {},
     "output_type": "execute_result"
    }
   ],
   "source": [
    "test['base_date'][:3]"
   ]
  },
  {
   "cell_type": "code",
   "execution_count": 14,
   "id": "57dd5db9",
   "metadata": {
    "ExecuteTime": {
     "end_time": "2022-10-18T01:23:37.623924Z",
     "start_time": "2022-10-18T01:23:37.440378Z"
    }
   },
   "outputs": [],
   "source": [
    "test['base_date']=pd.to_datetime(test['base_date'].astype(str), format='%Y%m%d')"
   ]
  },
  {
   "cell_type": "code",
   "execution_count": 15,
   "id": "5d36f51e",
   "metadata": {
    "ExecuteTime": {
     "end_time": "2022-10-18T01:23:42.114622Z",
     "start_time": "2022-10-18T01:23:42.092738Z"
    }
   },
   "outputs": [
    {
     "data": {
      "text/plain": [
       "0   2022-08-25\n",
       "1   2022-08-09\n",
       "2   2022-08-05\n",
       "Name: base_date, dtype: datetime64[ns]"
      ]
     },
     "execution_count": 15,
     "metadata": {},
     "output_type": "execute_result"
    }
   ],
   "source": [
    "test['base_date'][:3]"
   ]
  },
  {
   "cell_type": "markdown",
   "id": "e4ea6a6e",
   "metadata": {},
   "source": [
    "## day_of_week"
   ]
  },
  {
   "cell_type": "code",
   "execution_count": 19,
   "id": "581149c3",
   "metadata": {
    "ExecuteTime": {
     "end_time": "2022-10-18T01:25:06.033463Z",
     "start_time": "2022-10-18T01:25:05.772811Z"
    }
   },
   "outputs": [
    {
     "data": {
      "text/plain": [
       "금    684024\n",
       "수    675583\n",
       "목    674070\n",
       "일    673632\n",
       "토    669767\n",
       "화    662498\n",
       "월    661643\n",
       "Name: day_of_week, dtype: int64"
      ]
     },
     "execution_count": 19,
     "metadata": {},
     "output_type": "execute_result"
    }
   ],
   "source": [
    "train['day_of_week'].value_counts()"
   ]
  },
  {
   "cell_type": "code",
   "execution_count": 20,
   "id": "389818c5",
   "metadata": {
    "ExecuteTime": {
     "end_time": "2022-10-18T01:27:21.844700Z",
     "start_time": "2022-10-18T01:27:17.761718Z"
    }
   },
   "outputs": [],
   "source": [
    "from sklearn.preprocessing import LabelEncoder"
   ]
  },
  {
   "cell_type": "code",
   "execution_count": 21,
   "id": "b8e35a80",
   "metadata": {
    "ExecuteTime": {
     "end_time": "2022-10-18T01:27:42.666296Z",
     "start_time": "2022-10-18T01:27:41.991268Z"
    }
   },
   "outputs": [
    {
     "name": "stdout",
     "output_type": "stream",
     "text": [
      "[1 1 4 ... 3 2 6]\n"
     ]
    }
   ],
   "source": [
    "encoder = LabelEncoder()\n",
    "encoder.fit(train['day_of_week'])\n",
    "labels = encoder.transform(train['day_of_week'])\n",
    "print(labels)"
   ]
  },
  {
   "cell_type": "code",
   "execution_count": 22,
   "id": "afef3bb3",
   "metadata": {
    "ExecuteTime": {
     "end_time": "2022-10-18T01:27:51.788663Z",
     "start_time": "2022-10-18T01:27:51.773013Z"
    }
   },
   "outputs": [
    {
     "name": "stdout",
     "output_type": "stream",
     "text": [
      "['금' '목' '수' '월' '일' '토' '화']\n"
     ]
    }
   ],
   "source": [
    "print(encoder.classes_)"
   ]
  },
  {
   "cell_type": "code",
   "execution_count": 24,
   "id": "9b8517dc",
   "metadata": {
    "ExecuteTime": {
     "end_time": "2022-10-18T01:29:05.037766Z",
     "start_time": "2022-10-18T01:29:04.848495Z"
    }
   },
   "outputs": [],
   "source": [
    "train['day_of_week'] = labels"
   ]
  },
  {
   "cell_type": "code",
   "execution_count": 26,
   "id": "f54d574a",
   "metadata": {
    "ExecuteTime": {
     "end_time": "2022-10-18T01:29:25.130659Z",
     "start_time": "2022-10-18T01:29:25.110456Z"
    }
   },
   "outputs": [
    {
     "data": {
      "text/plain": [
       "0    1\n",
       "1    1\n",
       "2    4\n",
       "Name: day_of_week, dtype: int32"
      ]
     },
     "execution_count": 26,
     "metadata": {},
     "output_type": "execute_result"
    }
   ],
   "source": [
    "train['day_of_week'][:3]"
   ]
  },
  {
   "cell_type": "code",
   "execution_count": 28,
   "id": "8bbcd19c",
   "metadata": {
    "ExecuteTime": {
     "end_time": "2022-10-18T01:30:11.563033Z",
     "start_time": "2022-10-18T01:30:11.496641Z"
    }
   },
   "outputs": [
    {
     "name": "stdout",
     "output_type": "stream",
     "text": [
      "[1 6 0 ... 0 0 0]\n"
     ]
    }
   ],
   "source": [
    "labels = encoder.transform(test['day_of_week'])\n",
    "print(labels)"
   ]
  },
  {
   "cell_type": "code",
   "execution_count": 30,
   "id": "cff30729",
   "metadata": {
    "ExecuteTime": {
     "end_time": "2022-10-18T03:55:09.907579Z",
     "start_time": "2022-10-18T03:55:09.874579Z"
    }
   },
   "outputs": [],
   "source": [
    "test['day_of_week'] = labels"
   ]
  },
  {
   "cell_type": "markdown",
   "id": "e1a67d4a",
   "metadata": {},
   "source": [
    "## base_hour\n",
    "    - 오전, 오후로 나눌 수 있다."
   ]
  },
  {
   "cell_type": "code",
   "execution_count": 33,
   "id": "6ed77d8e",
   "metadata": {
    "ExecuteTime": {
     "end_time": "2022-10-18T03:55:40.447551Z",
     "start_time": "2022-10-18T03:55:40.420275Z"
    }
   },
   "outputs": [
    {
     "data": {
      "text/plain": [
       "0    17\n",
       "1    21\n",
       "2     7\n",
       "Name: base_hour, dtype: int64"
      ]
     },
     "execution_count": 33,
     "metadata": {},
     "output_type": "execute_result"
    }
   ],
   "source": [
    "train['base_hour'].head(3)"
   ]
  },
  {
   "cell_type": "markdown",
   "id": "2b4cd008",
   "metadata": {},
   "source": [
    "## lane_count"
   ]
  },
  {
   "cell_type": "code",
   "execution_count": 38,
   "id": "0b48c8a1",
   "metadata": {
    "ExecuteTime": {
     "end_time": "2022-10-18T03:58:17.373201Z",
     "start_time": "2022-10-18T03:58:17.354583Z"
    }
   },
   "outputs": [
    {
     "data": {
      "text/plain": [
       "0    1\n",
       "1    2\n",
       "2    2\n",
       "Name: lane_count, dtype: int64"
      ]
     },
     "execution_count": 38,
     "metadata": {},
     "output_type": "execute_result"
    }
   ],
   "source": [
    "train['lane_count'].head(3)"
   ]
  },
  {
   "cell_type": "markdown",
   "id": "de5ac391",
   "metadata": {},
   "source": [
    "## road_rating"
   ]
  },
  {
   "cell_type": "code",
   "execution_count": 40,
   "id": "09ef2915",
   "metadata": {
    "ExecuteTime": {
     "end_time": "2022-10-18T03:58:41.388862Z",
     "start_time": "2022-10-18T03:58:41.372862Z"
    }
   },
   "outputs": [
    {
     "data": {
      "text/plain": [
       "0    106\n",
       "1    103\n",
       "2    103\n",
       "Name: road_rating, dtype: int64"
      ]
     },
     "execution_count": 40,
     "metadata": {},
     "output_type": "execute_result"
    }
   ],
   "source": [
    "train['road_rating'].head(3)"
   ]
  },
  {
   "cell_type": "markdown",
   "id": "68a1420e",
   "metadata": {},
   "source": [
    "## multi_linked"
   ]
  },
  {
   "cell_type": "code",
   "execution_count": 42,
   "id": "edb4ca82",
   "metadata": {
    "ExecuteTime": {
     "end_time": "2022-10-18T03:59:10.751592Z",
     "start_time": "2022-10-18T03:59:10.700552Z"
    }
   },
   "outputs": [
    {
     "data": {
      "text/plain": [
       "0    4698978\n",
       "1       2239\n",
       "Name: multi_linked, dtype: int64"
      ]
     },
     "execution_count": 42,
     "metadata": {},
     "output_type": "execute_result"
    }
   ],
   "source": [
    "train['multi_linked'].value_counts()"
   ]
  },
  {
   "cell_type": "markdown",
   "id": "6aab8009",
   "metadata": {},
   "source": [
    "## connect_code"
   ]
  },
  {
   "cell_type": "code",
   "execution_count": 44,
   "id": "c3459819",
   "metadata": {
    "ExecuteTime": {
     "end_time": "2022-10-18T03:59:39.183531Z",
     "start_time": "2022-10-18T03:59:39.140532Z"
    }
   },
   "outputs": [
    {
     "data": {
      "text/plain": [
       "0      4689075\n",
       "103      12142\n",
       "Name: connect_code, dtype: int64"
      ]
     },
     "execution_count": 44,
     "metadata": {},
     "output_type": "execute_result"
    }
   ],
   "source": [
    "train['connect_code'].value_counts()"
   ]
  },
  {
   "cell_type": "markdown",
   "id": "2d81fe56",
   "metadata": {},
   "source": [
    "## maximum_speed_limit"
   ]
  },
  {
   "cell_type": "code",
   "execution_count": 47,
   "id": "65d81a0c",
   "metadata": {
    "ExecuteTime": {
     "end_time": "2022-10-18T04:00:03.805157Z",
     "start_time": "2022-10-18T04:00:03.790342Z"
    }
   },
   "outputs": [
    {
     "data": {
      "text/plain": [
       "0    60.0\n",
       "1    60.0\n",
       "2    80.0\n",
       "Name: maximum_speed_limit, dtype: float64"
      ]
     },
     "execution_count": 47,
     "metadata": {},
     "output_type": "execute_result"
    }
   ],
   "source": [
    "train['maximum_speed_limit'].head(3)"
   ]
  },
  {
   "cell_type": "markdown",
   "id": "edb3b9c4",
   "metadata": {},
   "source": [
    "## weight_restricted"
   ]
  },
  {
   "cell_type": "code",
   "execution_count": 51,
   "id": "b56e6e0a",
   "metadata": {
    "ExecuteTime": {
     "end_time": "2022-10-18T04:00:28.304719Z",
     "start_time": "2022-10-18T04:00:28.294535Z"
    }
   },
   "outputs": [
    {
     "data": {
      "text/plain": [
       "0    32400.0\n",
       "1        0.0\n",
       "2        0.0\n",
       "Name: weight_restricted, dtype: float64"
      ]
     },
     "execution_count": 51,
     "metadata": {},
     "output_type": "execute_result"
    }
   ],
   "source": [
    "train['weight_restricted'].head(3)"
   ]
  },
  {
   "cell_type": "markdown",
   "id": "fd054722",
   "metadata": {},
   "source": [
    "## height_restricted"
   ]
  },
  {
   "cell_type": "code",
   "execution_count": 54,
   "id": "63c32669",
   "metadata": {
    "ExecuteTime": {
     "end_time": "2022-10-18T05:15:31.116035Z",
     "start_time": "2022-10-18T05:15:31.102036Z"
    }
   },
   "outputs": [
    {
     "data": {
      "text/plain": [
       "0    0.0\n",
       "1    0.0\n",
       "2    0.0\n",
       "Name: height_restricted, dtype: float64"
      ]
     },
     "execution_count": 54,
     "metadata": {},
     "output_type": "execute_result"
    }
   ],
   "source": [
    "train['height_restricted'].head(3)"
   ]
  },
  {
   "cell_type": "markdown",
   "id": "f9101473",
   "metadata": {},
   "source": [
    "## road_type"
   ]
  },
  {
   "cell_type": "code",
   "execution_count": 57,
   "id": "fd39037f",
   "metadata": {
    "ExecuteTime": {
     "end_time": "2022-10-18T05:15:51.251933Z",
     "start_time": "2022-10-18T05:15:51.238951Z"
    }
   },
   "outputs": [
    {
     "data": {
      "text/plain": [
       "0    3\n",
       "1    0\n",
       "2    0\n",
       "Name: road_type, dtype: int64"
      ]
     },
     "execution_count": 57,
     "metadata": {},
     "output_type": "execute_result"
    }
   ],
   "source": [
    "train['road_type'].head(3)"
   ]
  },
  {
   "cell_type": "markdown",
   "id": "a8b44e23",
   "metadata": {},
   "source": [
    "## start_latitude"
   ]
  },
  {
   "cell_type": "code",
   "execution_count": 59,
   "id": "92353713",
   "metadata": {
    "ExecuteTime": {
     "end_time": "2022-10-18T05:16:08.053510Z",
     "start_time": "2022-10-18T05:16:08.044511Z"
    }
   },
   "outputs": [
    {
     "data": {
      "text/plain": [
       "0    33.427747\n",
       "1    33.500730\n",
       "2    33.279145\n",
       "Name: start_latitude, dtype: float64"
      ]
     },
     "execution_count": 59,
     "metadata": {},
     "output_type": "execute_result"
    }
   ],
   "source": [
    "train['start_latitude'].head(3)"
   ]
  },
  {
   "cell_type": "markdown",
   "id": "a42e9cd2",
   "metadata": {},
   "source": [
    "## start_longitude"
   ]
  },
  {
   "cell_type": "code",
   "execution_count": 60,
   "id": "afd12a83",
   "metadata": {
    "ExecuteTime": {
     "end_time": "2022-10-18T05:16:25.751967Z",
     "start_time": "2022-10-18T05:16:25.734966Z"
    }
   },
   "outputs": [
    {
     "data": {
      "text/plain": [
       "0    126.662612\n",
       "1    126.529107\n",
       "2    126.368598\n",
       "Name: start_longitude, dtype: float64"
      ]
     },
     "execution_count": 60,
     "metadata": {},
     "output_type": "execute_result"
    }
   ],
   "source": [
    "train['start_longitude'].head(3)"
   ]
  },
  {
   "cell_type": "markdown",
   "id": "fbc6b5c6",
   "metadata": {},
   "source": [
    "## start_turn_restricted"
   ]
  },
  {
   "cell_type": "code",
   "execution_count": 62,
   "id": "239b64e5",
   "metadata": {
    "ExecuteTime": {
     "end_time": "2022-10-18T05:16:46.867202Z",
     "start_time": "2022-10-18T05:16:46.683437Z"
    }
   },
   "outputs": [
    {
     "data": {
      "text/plain": [
       "없음    4239701\n",
       "있음     461516\n",
       "Name: start_turn_restricted, dtype: int64"
      ]
     },
     "execution_count": 62,
     "metadata": {},
     "output_type": "execute_result"
    }
   ],
   "source": [
    "train['start_turn_restricted'].value_counts()"
   ]
  },
  {
   "cell_type": "code",
   "execution_count": 63,
   "id": "b039108d",
   "metadata": {
    "ExecuteTime": {
     "end_time": "2022-10-18T05:17:15.365122Z",
     "start_time": "2022-10-18T05:17:14.841851Z"
    }
   },
   "outputs": [
    {
     "name": "stdout",
     "output_type": "stream",
     "text": [
      "[0 1 0 ... 0 0 0]\n"
     ]
    }
   ],
   "source": [
    "encoder = LabelEncoder()\n",
    "encoder.fit(train['start_turn_restricted'])\n",
    "labels = encoder.transform(train['start_turn_restricted'])\n",
    "print(labels)"
   ]
  },
  {
   "cell_type": "code",
   "execution_count": 64,
   "id": "f8ff92d7",
   "metadata": {
    "ExecuteTime": {
     "end_time": "2022-10-18T05:17:26.388349Z",
     "start_time": "2022-10-18T05:17:26.287208Z"
    }
   },
   "outputs": [],
   "source": [
    "train['start_turn_restricted'] = labels"
   ]
  },
  {
   "cell_type": "code",
   "execution_count": 67,
   "id": "0c1a3165",
   "metadata": {
    "ExecuteTime": {
     "end_time": "2022-10-18T05:18:06.738012Z",
     "start_time": "2022-10-18T05:18:06.681900Z"
    }
   },
   "outputs": [],
   "source": [
    "labels = encoder.transform(test['start_turn_restricted'])"
   ]
  },
  {
   "cell_type": "code",
   "execution_count": 69,
   "id": "75b0fc08",
   "metadata": {
    "ExecuteTime": {
     "end_time": "2022-10-18T05:18:22.242668Z",
     "start_time": "2022-10-18T05:18:22.214089Z"
    }
   },
   "outputs": [],
   "source": [
    "test['start_turn_restricted'] = labels"
   ]
  },
  {
   "cell_type": "markdown",
   "id": "6630dc5a",
   "metadata": {},
   "source": [
    "## end_latitude"
   ]
  },
  {
   "cell_type": "code",
   "execution_count": 71,
   "id": "880cd7c0",
   "metadata": {
    "ExecuteTime": {
     "end_time": "2022-10-18T05:18:48.386753Z",
     "start_time": "2022-10-18T05:18:48.374077Z"
    }
   },
   "outputs": [
    {
     "data": {
      "text/plain": [
       "0    33.427749\n",
       "1    33.504811\n",
       "2    33.280072\n",
       "Name: end_latitude, dtype: float64"
      ]
     },
     "execution_count": 71,
     "metadata": {},
     "output_type": "execute_result"
    }
   ],
   "source": [
    "train['end_latitude'].head(3)"
   ]
  },
  {
   "cell_type": "markdown",
   "id": "8b0022c7",
   "metadata": {},
   "source": [
    "## end_longitude"
   ]
  },
  {
   "cell_type": "code",
   "execution_count": 73,
   "id": "e6b4d7f1",
   "metadata": {
    "ExecuteTime": {
     "end_time": "2022-10-18T05:19:08.053146Z",
     "start_time": "2022-10-18T05:19:08.040028Z"
    }
   },
   "outputs": [
    {
     "data": {
      "text/plain": [
       "0    126.662335\n",
       "1    126.526240\n",
       "2    126.362147\n",
       "Name: end_longitude, dtype: float64"
      ]
     },
     "execution_count": 73,
     "metadata": {},
     "output_type": "execute_result"
    }
   ],
   "source": [
    "train['end_longitude'].head(3)"
   ]
  },
  {
   "cell_type": "markdown",
   "id": "a5c3984b",
   "metadata": {},
   "source": [
    "## end_turn_restricted\t"
   ]
  },
  {
   "cell_type": "code",
   "execution_count": 76,
   "id": "d79384fc",
   "metadata": {
    "ExecuteTime": {
     "end_time": "2022-10-18T05:19:39.801691Z",
     "start_time": "2022-10-18T05:19:39.580517Z"
    }
   },
   "outputs": [
    {
     "data": {
      "text/plain": [
       "없음    4239599\n",
       "있음     461618\n",
       "Name: end_turn_restricted, dtype: int64"
      ]
     },
     "execution_count": 76,
     "metadata": {},
     "output_type": "execute_result"
    }
   ],
   "source": [
    "train['end_turn_restricted'].value_counts()"
   ]
  },
  {
   "cell_type": "code",
   "execution_count": 77,
   "id": "7564671c",
   "metadata": {
    "ExecuteTime": {
     "end_time": "2022-10-18T05:19:52.606599Z",
     "start_time": "2022-10-18T05:19:52.062040Z"
    }
   },
   "outputs": [
    {
     "name": "stdout",
     "output_type": "stream",
     "text": [
      "[0 0 0 ... 0 0 0]\n"
     ]
    }
   ],
   "source": [
    "encoder = LabelEncoder()\n",
    "encoder.fit(train['end_turn_restricted'])\n",
    "labels = encoder.transform(train['end_turn_restricted'])\n",
    "print(labels)"
   ]
  },
  {
   "cell_type": "code",
   "execution_count": 78,
   "id": "74fcc43a",
   "metadata": {
    "ExecuteTime": {
     "end_time": "2022-10-18T05:20:04.445769Z",
     "start_time": "2022-10-18T05:20:04.371918Z"
    }
   },
   "outputs": [],
   "source": [
    "train['end_turn_restricted'] = labels"
   ]
  },
  {
   "cell_type": "code",
   "execution_count": 79,
   "id": "ec417717",
   "metadata": {
    "ExecuteTime": {
     "end_time": "2022-10-18T05:20:17.144561Z",
     "start_time": "2022-10-18T05:20:17.092363Z"
    }
   },
   "outputs": [],
   "source": [
    "encoder.fit(test['end_turn_restricted'])\n",
    "labels = encoder.transform(test['end_turn_restricted'])"
   ]
  },
  {
   "cell_type": "code",
   "execution_count": 80,
   "id": "7f1971fa",
   "metadata": {
    "ExecuteTime": {
     "end_time": "2022-10-18T05:20:26.414112Z",
     "start_time": "2022-10-18T05:20:26.402110Z"
    }
   },
   "outputs": [],
   "source": [
    "test['end_turn_restricted'] = labels"
   ]
  },
  {
   "cell_type": "markdown",
   "id": "3468580a",
   "metadata": {},
   "source": [
    "## road_name (미처리)\n",
    "    - one-hot-encoding"
   ]
  },
  {
   "cell_type": "code",
   "execution_count": 86,
   "id": "6093472a",
   "metadata": {
    "ExecuteTime": {
     "end_time": "2022-10-18T05:25:55.593346Z",
     "start_time": "2022-10-18T05:25:55.395603Z"
    }
   },
   "outputs": [
    {
     "data": {
      "text/plain": [
       "일반국도12호선    1046092\n",
       "-            569463\n",
       "일반국도16호선     554510\n",
       "일반국도95호선     248181\n",
       "일반국도11호선     215701\n",
       "             ...   \n",
       "애원로            7718\n",
       "아봉로            7342\n",
       "남조로            6813\n",
       "호서중앙로          2819\n",
       "호근로             587\n",
       "Name: road_name, Length: 61, dtype: int64"
      ]
     },
     "execution_count": 86,
     "metadata": {},
     "output_type": "execute_result"
    }
   ],
   "source": [
    "train['road_name'].value_counts()"
   ]
  },
  {
   "cell_type": "markdown",
   "id": "12a95201",
   "metadata": {},
   "source": [
    "## start_node_name (미처리)\n",
    "    - one-hot-encoding\n",
    "    - 근데 좀 많네.."
   ]
  },
  {
   "cell_type": "code",
   "execution_count": 89,
   "id": "50c7aeed",
   "metadata": {
    "ExecuteTime": {
     "end_time": "2022-10-18T05:27:02.242265Z",
     "start_time": "2022-10-18T05:27:01.965096Z"
    }
   },
   "outputs": [
    {
     "data": {
      "text/plain": [
       "고성교차로              42169\n",
       "산신주유소              29386\n",
       "미수2교               26635\n",
       "영주교                24381\n",
       "봉개교 시종점            24290\n",
       "                   ...  \n",
       "외산리사무소               934\n",
       "와산리                  881\n",
       "성미가든                 788\n",
       "서귀포시 호근동 1838-4      744\n",
       "CU서귀호근로점             744\n",
       "Name: start_node_name, Length: 487, dtype: int64"
      ]
     },
     "execution_count": 89,
     "metadata": {},
     "output_type": "execute_result"
    }
   ],
   "source": [
    "train['start_node_name'].value_counts()"
   ]
  },
  {
   "cell_type": "markdown",
   "id": "93e3ae22",
   "metadata": {},
   "source": [
    "## end_node_name (미처리)\n",
    "    - one-hot-encoding\n",
    "    - 다른 방법 생각"
   ]
  },
  {
   "cell_type": "code",
   "execution_count": 92,
   "id": "de2e7d36",
   "metadata": {
    "ExecuteTime": {
     "end_time": "2022-10-18T05:27:59.121368Z",
     "start_time": "2022-10-18T05:27:58.837886Z"
    }
   },
   "outputs": [
    {
     "data": {
      "text/plain": [
       "고성교차로              42265\n",
       "산신주유소              29202\n",
       "구엄교                27510\n",
       "미수2교               26621\n",
       "영주교                24370\n",
       "                   ...  \n",
       "외산리사무소               881\n",
       "대흘교차로                788\n",
       "서귀포시 서호동 308-6       744\n",
       "서귀포시 호근동 1838-4      744\n",
       "CU서귀호근로점             587\n",
       "Name: end_node_name, Length: 487, dtype: int64"
      ]
     },
     "execution_count": 92,
     "metadata": {},
     "output_type": "execute_result"
    }
   ],
   "source": [
    "train['end_node_name'].value_counts()"
   ]
  },
  {
   "cell_type": "markdown",
   "id": "f2ac9514",
   "metadata": {},
   "source": [
    "## vehicle_restricted"
   ]
  },
  {
   "cell_type": "code",
   "execution_count": 94,
   "id": "c690ac84",
   "metadata": {
    "ExecuteTime": {
     "end_time": "2022-10-18T05:28:43.294145Z",
     "start_time": "2022-10-18T05:28:43.234446Z"
    }
   },
   "outputs": [
    {
     "data": {
      "text/plain": [
       "0.0    4701217\n",
       "Name: vehicle_restricted, dtype: int64"
      ]
     },
     "execution_count": 94,
     "metadata": {},
     "output_type": "execute_result"
    }
   ],
   "source": [
    "train['vehicle_restricted'].value_counts()"
   ]
  },
  {
   "cell_type": "code",
   "execution_count": 95,
   "id": "8f5b3a4a",
   "metadata": {
    "ExecuteTime": {
     "end_time": "2022-10-18T05:28:54.126927Z",
     "start_time": "2022-10-18T05:28:54.115927Z"
    }
   },
   "outputs": [
    {
     "data": {
      "text/plain": [
       "0.0    291241\n",
       "Name: vehicle_restricted, dtype: int64"
      ]
     },
     "execution_count": 95,
     "metadata": {},
     "output_type": "execute_result"
    }
   ],
   "source": [
    "test['vehicle_restricted'].value_counts()"
   ]
  },
  {
   "cell_type": "code",
   "execution_count": 97,
   "id": "25b2c2bc",
   "metadata": {
    "ExecuteTime": {
     "end_time": "2022-10-18T05:29:25.727641Z",
     "start_time": "2022-10-18T05:29:25.286703Z"
    }
   },
   "outputs": [],
   "source": [
    "train = train.drop(columns = 'vehicle_restricted')\n",
    "test = test.drop(columns = 'vehicle_restricted')"
   ]
  },
  {
   "cell_type": "markdown",
   "id": "9b2cd42a",
   "metadata": {},
   "source": [
    "## target\n",
    "    - 종속변수"
   ]
  },
  {
   "cell_type": "code",
   "execution_count": 99,
   "id": "fb5e07b2",
   "metadata": {
    "ExecuteTime": {
     "end_time": "2022-10-18T05:29:46.245568Z",
     "start_time": "2022-10-18T05:29:46.236195Z"
    }
   },
   "outputs": [
    {
     "data": {
      "text/plain": [
       "0    52.0\n",
       "1    30.0\n",
       "2    61.0\n",
       "Name: target, dtype: float64"
      ]
     },
     "execution_count": 99,
     "metadata": {},
     "output_type": "execute_result"
    }
   ],
   "source": [
    "train['target'][:3]"
   ]
  }
 ],
 "metadata": {
  "hide_input": false,
  "kernelspec": {
   "display_name": "Python 3 (ipykernel)",
   "language": "python",
   "name": "python3"
  },
  "language_info": {
   "codemirror_mode": {
    "name": "ipython",
    "version": 3
   },
   "file_extension": ".py",
   "mimetype": "text/x-python",
   "name": "python",
   "nbconvert_exporter": "python",
   "pygments_lexer": "ipython3",
   "version": "3.9.13"
  },
  "toc": {
   "base_numbering": 1,
   "nav_menu": {
    "height": "139px",
    "width": "189px"
   },
   "number_sections": true,
   "sideBar": true,
   "skip_h1_title": false,
   "title_cell": "Table of Contents",
   "title_sidebar": "Contents",
   "toc_cell": false,
   "toc_position": {
    "height": "calc(100% - 180px)",
    "left": "10px",
    "top": "150px",
    "width": "384px"
   },
   "toc_section_display": true,
   "toc_window_display": true
  },
  "varInspector": {
   "cols": {
    "lenName": 16,
    "lenType": 16,
    "lenVar": 40
   },
   "kernels_config": {
    "python": {
     "delete_cmd_postfix": "",
     "delete_cmd_prefix": "del ",
     "library": "var_list.py",
     "varRefreshCmd": "print(var_dic_list())"
    },
    "r": {
     "delete_cmd_postfix": ") ",
     "delete_cmd_prefix": "rm(",
     "library": "var_list.r",
     "varRefreshCmd": "cat(var_dic_list()) "
    }
   },
   "types_to_exclude": [
    "module",
    "function",
    "builtin_function_or_method",
    "instance",
    "_Feature"
   ],
   "window_display": false
  }
 },
 "nbformat": 4,
 "nbformat_minor": 5
}
